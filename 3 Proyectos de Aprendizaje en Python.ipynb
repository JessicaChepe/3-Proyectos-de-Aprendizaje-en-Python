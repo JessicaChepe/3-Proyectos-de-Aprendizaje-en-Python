{
 "cells": [
  {
   "cell_type": "markdown",
   "id": "2d8c5b5a",
   "metadata": {},
   "source": [
    "### Fundamentos - Primer Proyecto \n",
    "\n",
    "Objetivo del proyecto:\n",
    "\n",
    "Crear un programa para mostrar el promedio de calificación de alumnos, utilizando los fundamentos de Python.\n",
    "\n",
    "Planificación de la propuesta:\n",
    "\n",
    "1. Imagínate que te han solicitado crear un programa que permita mostrar el promedio de calificaciones para N alumnos. Para ello,\n",
    "debes contemplar lo siguiente:\n",
    "\n",
    "    * Solicitar la cantidad de alumnos N.\n",
    "    * Por cada alumno, se debe:\n",
    "        * Solicitar la cantidad de notas M\n",
    "        * Solicitar su nombre, apellido, sección y grado.\n",
    "        * Mostrar el promedio de notas.\n",
    "    * Si el promedio de nota es menor a 10.5 indicar un mensaje “Ha desaprobado el curso”, caso contrario el mensaje es “Felicitaciones, aprobó el curso”.\n",
    "    * Mostrar la nota mayor.\n",
    "    * Mostrar la nota menor.\n",
    "    * Las notas están en el rango de 0 a 20, validar que solamente se ingrese notas en ese rango, caso contrario mostrar un mensaje indicando “El valor de la nota no pertenece a un rango válido\n",
    "    \n",
    "2. Piensa en la situación planteada y toma en cuenta los siguientes temas del curso:\n",
    "\n",
    "    ● Importancia de la programación.\n",
    "    ● Variables y expresiones.\n",
    "    ● Estructuras de control selectivas.\n",
    "    ● Estructuras de control repetitivas (While y For)\n"
   ]
  },
  {
   "cell_type": "code",
   "execution_count": 2,
   "id": "38aa814f",
   "metadata": {},
   "outputs": [
    {
     "name": "stdout",
     "output_type": "stream",
     "text": [
      "Ingrese cantidad de alumnos: 2\n",
      "____________________________________________________________________________\n",
      "\n",
      "Alumno 1: \n",
      "Cantidad de Notas: 2\n",
      "Ingrese nombre: Manuel\n",
      "Ingresar apellido: Tinta\n",
      "Ingresar seccion: C\n",
      "Ingresar grado: 2\n",
      "Nota 1: 12\n",
      "Nota 2: 20\n",
      "*********************************************\n",
      "Felicitaciones, aprobó el curso\n",
      "Nota Mayor:  20.0\n",
      "Nota Menor:  12.0\n",
      "*********************************************\n",
      "____________________________________________________________________________\n",
      "\n",
      "Alumno 2: \n",
      "Cantidad de Notas: 2\n",
      "Ingrese nombre: Lucia\n",
      "Ingresar apellido: Luna\n",
      "Ingresar seccion: C\n",
      "Ingresar grado: 2\n",
      "Nota 1: 20\n",
      "Nota 2: 11\n",
      "*********************************************\n",
      "Felicitaciones, aprobó el curso\n",
      "Nota Mayor:  20.0\n",
      "Nota Menor:  11.0\n",
      "*********************************************\n"
     ]
    }
   ],
   "source": [
    "#Programa que permite mostrar el promedio de calificacion para N alumnos.\n",
    "    \n",
    "\n",
    "N = int(input(\"Ingrese cantidad de alumnos: \") )\n",
    "\n",
    "\n",
    "for i in range (N):\n",
    "    nota_mayor = float(0)\n",
    "    nota_menor = float(20)\n",
    "    notas = float (0)\n",
    "    promedio = float(0)\n",
    "    print(\"____________________________________________________________________________\\n\")\n",
    "\n",
    "    print(\"Alumno {}: \".format(i+1))\n",
    "    M = int(input(\"Cantidad de Notas: \"))\n",
    "    nombre = input(\"Ingrese nombre: \")\n",
    "    apellido = input(\"Ingresar apellido: \")\n",
    "    seccion = input(\"Ingresar seccion: \")\n",
    "    grado = input(\"Ingresar grado: \")\n",
    "    for j in range(M):\n",
    "        while True:\n",
    "                nota = float(input(\"Nota {}: \".format(j + 1)))\n",
    "                if 0 <= nota <= 20:\n",
    "                    break\n",
    "                else:\n",
    "                    print(\"El valor de la nota no pertenece a un rango válido\")\n",
    "\n",
    "        if(nota > nota_mayor):\n",
    "                nota_mayor = nota\n",
    "        if(nota < nota_menor):\n",
    "            nota_menor = nota\n",
    "        \n",
    "        notas += nota        \n",
    "    promedio = notas / M\n",
    "\n",
    "    print(\"*********************************************\")\n",
    "\n",
    "    if(promedio > 10.5 ):\n",
    "        print(\"Felicitaciones, aprobó el curso\")\n",
    "        print(\"Nota Mayor: \",nota_mayor)\n",
    "        print(\"Nota Menor: \",nota_menor)\n",
    "    else:\n",
    "        print(\"Ha desaprobado el curso\")\n",
    "        print(\"Nota Mayor: \",nota_mayor)\n",
    "        print(\"Nota Menor: \",nota_menor)\n",
    "    \n",
    "    print(\"*********************************************\")                       "
   ]
  },
  {
   "cell_type": "markdown",
   "id": "c2223666",
   "metadata": {},
   "source": [
    "### Intermedio - Segundo Proyecto \n",
    "\n",
    "Objetivo del proyecto:\n",
    "\n",
    "Crear un programa que permita almacenar la lista de nombres de alumnos y de notas de todo el ciclo, tomando en cuenta todo lo visto en \n",
    "clases. \n",
    "\n",
    "Planificación del proyecto:\n",
    "\n",
    "1. Imagínate que te han solicitado crear un programa que permita almacenar la lista de nombres de alumnos y por cada alumno un listado de notas de todo el ciclo. Para ello, debes hacer lo siguiente:\n",
    "\n",
    "    * Solicitar la cantidad de alumnos N.\n",
    "    * Solicitar la cantidad de notas por cada alumno.\n",
    "    * Solicitar los datos de cada alumno (nombre, apellido, sección y grado).\n",
    "    * Almacenar los elementos en listas (lista de nombres, listas de notas).\n",
    "    * Crear una función que permita saber el promedio de notas por alumno.\n",
    "    * Crear una función que permita saber cuál es el nombre del alumno con mayor promedio.\n",
    "    * Validar que solamente se ingrese notas en el rango de 0 a 20. Caso contrario mostrar un mensaje indicando que “el valor de la nota no pertenece a un rango válido”\n",
    "    * Validar que el nombre de la persona que tiene el mayor promedio esté en mayúsculas.\n",
    "    \n",
    "2. Piensa en la situación planteada y toma en cuenta los siguientes temas del curso: \n",
    "\n",
    "    ● Funciones\n",
    "    ● Variables locales y globales\n",
    "    ● Listas funciones.\n",
    "    ● Strings funciones."
   ]
  },
  {
   "cell_type": "code",
   "execution_count": 1,
   "id": "508bf5e1",
   "metadata": {},
   "outputs": [
    {
     "name": "stdout",
     "output_type": "stream",
     "text": [
      "Ingrese la cantidad de alumnos: 2\n",
      "Alumno 1: \n",
      "Ingrese Nombre: Lucas\n",
      "Ingrese Apellido: Perez\n",
      "Ingrese Sección: A\n",
      "Ingrese Grado: 5\n",
      "Ingrese la cantidad de notas: 2\n",
      "Nota 1: 20\n",
      "Nota 2: 12\n",
      "Promedio:  16.0\n",
      "*********************************************\n",
      "Alumno 2: \n",
      "Ingrese Nombre: Ema\n",
      "Ingrese Apellido: Torres\n",
      "Ingrese Sección: A\n",
      "Ingrese Grado: 5\n",
      "Ingrese la cantidad de notas: 2\n",
      "Nota 1: 18\n",
      "Nota 2: 15\n",
      "Promedio:  16.5\n",
      "*********************************************\n",
      "*********** Alumnos *****************\n",
      "1. Lucas 16.0\n",
      "2. Ema 16.5\n",
      "Promedio Mayor:  16.5 EMA\n",
      "Promedio Menor:  16.0\n"
     ]
    }
   ],
   "source": [
    "list_nom = []\n",
    "list_notas = []\n",
    "\n",
    "# Variables globales\n",
    "prom = float(0)\n",
    "prom_mayor = float(0)\n",
    "prom_menor = float(20)\n",
    "\n",
    "def obtener_alumno_promedio():\n",
    "    global prom_mayor, prom_menor  # Declarar como globales para modificarlas\n",
    "    for i in range(len(list_notas)):         \n",
    "        if(list_notas[i] > prom_mayor):\n",
    "            prom_mayor = list_notas[i]\n",
    "            pos1 = i\n",
    "        if(list_notas[i] < prom_menor):\n",
    "            prom_menor = list_notas[i]\n",
    "        print(\"{}.\".format(i+1),list_nom[i],list_notas[i])\n",
    "    \n",
    "    print(\"Promedio Mayor: \", prom_mayor, list_nom[pos1].upper())\n",
    "    print(\"Promedio Menor: \", prom_menor)\n",
    "\n",
    "def hallar_promedio(M, notas):\n",
    "    global prom  # Declarar como global para modificarla\n",
    "    prom = notas / M\n",
    "    print(\"Promedio: \", prom)\n",
    "    list_notas.append(prom)\n",
    "\n",
    "N = int(input(\"Ingrese la cantidad de alumnos: \"))\n",
    "\n",
    "for i in range(N):\n",
    "    notas = float(0)\n",
    "    print(\"Alumno {}: \".format(i+1))\n",
    "    nom = input(\"Ingrese Nombre: \")\n",
    "    ape = input(\"Ingrese Apellido: \")\n",
    "    secc = input(\"Ingrese Sección: \")\n",
    "    grado = input(\"Ingrese Grado: \")\n",
    "    list_nom.append(nom)\n",
    "\n",
    "    M = int(input(\"Ingrese la cantidad de notas: \"))\n",
    "\n",
    "    for j in range(M):\n",
    "        while True:\n",
    "            nota = float(input(\"Nota {}: \".format(j + 1)))\n",
    "            if 0 <= nota <= 20:\n",
    "                break\n",
    "            else:\n",
    "                print(\"El valor de la nota no pertenece a un rango válido\")\n",
    "        #list_notas.append(nota)\n",
    "        notas += nota\n",
    "\n",
    "    hallar_promedio(M,notas)\n",
    "    print(\"*********************************************\")\n",
    "print(\"*********** Alumnos *****************\")\n",
    "obtener_alumno_promedio()\n"
   ]
  },
  {
   "cell_type": "markdown",
   "id": "898c6da2",
   "metadata": {},
   "source": [
    "### Avanzado - Tercer Proyecto \n",
    "\n",
    "Objetivo de proyecto\n",
    "\n",
    "Resolver 3 ejercicios donde veras diccionario, pandas y json.\n",
    "\n",
    "#### Ejercicio 1\n",
    "\n",
    "Escribir un programa que guarde en una variable el diccionario {'Soles':'S\\','Euro':'€', 'Dollar':'$', 'Yen':'¥'}, pregunte al usuario por una moneda y muestre su símbolo o un mensaje de aviso si la moneda no está en el diccionario."
   ]
  },
  {
   "cell_type": "code",
   "execution_count": 1,
   "id": "8df888a1",
   "metadata": {},
   "outputs": [
    {
     "name": "stdout",
     "output_type": "stream",
     "text": [
      "Ingrese moneda: soles\n",
      "S/\n"
     ]
    }
   ],
   "source": [
    "# Primera solución\n",
    "diccionario = {'Soles': 'S/','Euro':'€', 'Dollar':'$', 'Yen':'¥'}\n",
    "moneda = input(\"Ingrese moneda: \")\n",
    "print(diccionario.get(moneda.title(), \"La moneda no existe.\")) # title ayuda a encontra aun ese mayucula o minusculo"
   ]
  },
  {
   "cell_type": "code",
   "execution_count": 2,
   "id": "82b6d397",
   "metadata": {},
   "outputs": [
    {
     "name": "stdout",
     "output_type": "stream",
     "text": [
      "Ingrese moneda: Inti\n",
      "La moneda no existe\n"
     ]
    }
   ],
   "source": [
    "# Segunda solución\n",
    "diccionario = {'Soles': 'S/','Euro':'€', 'Dollar':'$', 'Yen':'¥'}\n",
    "moneda = input(\"Ingrese moneda: \")\n",
    "if moneda.title() in diccionario:\n",
    "    print(diccionario[moneda.title()])\n",
    "else:\n",
    "    print(\"La moneda no existe\")"
   ]
  },
  {
   "cell_type": "markdown",
   "id": "b7252bec",
   "metadata": {},
   "source": [
    "#### Ejercicio 2\n",
    "Escribir un programa que pregunte al usuario su nombre, edad, dirección y teléfono y lo guarde en un diccionario. Después debe mostrar por pantalla el mensaje <\\nombre> tiene: <\\edad> años, vive en <dirección> y su número de teléfono es <teléfono>."
   ]
  },
  {
   "cell_type": "code",
   "execution_count": 1,
   "id": "05930841",
   "metadata": {},
   "outputs": [
    {
     "name": "stdout",
     "output_type": "stream",
     "text": [
      "----- Ingrese los siguientes datos -----\n",
      "\n",
      "Nombre: Mariano\n",
      "Edad:20\n",
      "Dirección: Lima\n",
      "Telefono: 909090909\n",
      "Tiene:  20 años\n",
      "Vive en Lima y su número de telefono es 909090909\n"
     ]
    }
   ],
   "source": [
    "print(\"----- Ingrese los siguientes datos -----\\n\")\n",
    "dic = {\n",
    "    'Nombre' : '',\n",
    "    'Edad' : '',\n",
    "    'Direc' : '',\n",
    "    'Tel' : ''\n",
    "}\n",
    "nombre = input(\"Nombre: \") \n",
    "edad = input(\"Edad:\")\n",
    "direc = input(\"Dirección: \")\n",
    "tel = input(\"Telefono: \")\n",
    "\n",
    "dic[\"Nombre\"] = nombre\n",
    "dic[\"Edad\"] = edad\n",
    "dic[\"Direc\"] = direc\n",
    "dic[\"Tel\"] = tel\n",
    "print(\"Tiene: \",dic[\"Edad\"],\"años\")\n",
    "print(\"Vive en\",dic[\"Direc\"],\"y su número de telefono es\",dic[\"Tel\"])"
   ]
  },
  {
   "cell_type": "markdown",
   "id": "a5b42d86",
   "metadata": {},
   "source": [
    "#### Ejercicio 3\n",
    "\n",
    "Escribir una función que reciba un diccionario con las notas de los alumnos de un curso y devuelva una serie con las notas de los alumnos aprobados ordenadas de mayor a menor."
   ]
  },
  {
   "cell_type": "code",
   "execution_count": 2,
   "id": "bd74d9c6",
   "metadata": {},
   "outputs": [
    {
     "name": "stdout",
     "output_type": "stream",
     "text": [
      "Lucas      20\n",
      "Lucia      18\n",
      "Mateo      12\n",
      "Matilda     8\n",
      "dtype: int64\n"
     ]
    }
   ],
   "source": [
    "import pandas as pd\n",
    "\n",
    "def aprobados(alumnos):\n",
    "    alumnos = pd.Series(alumnos)\n",
    "    return alumnos[alumnos >= 0].sort_values(ascending=False) #de menor a mayor cambiar False por True\n",
    "\n",
    "\n",
    "alumnos = {'Mateo' : 12 , \n",
    "           'Lucia': 18,\n",
    "           'Lucas' : 20,\n",
    "           'Matilda' : 8}\n",
    "\n",
    "print(aprobados(alumnos))"
   ]
  },
  {
   "cell_type": "markdown",
   "id": "bc6494a1",
   "metadata": {},
   "source": [
    "#### Ejercicio 4\n",
    "\n",
    "Consultar un nombre de la url \"https://api.nationalize.io/?name\" del API REST y mostrar resultado en estructura json."
   ]
  },
  {
   "cell_type": "code",
   "execution_count": 5,
   "id": "16b5bd1e",
   "metadata": {},
   "outputs": [
    {
     "name": "stdout",
     "output_type": "stream",
     "text": [
      "Ingrese nombre: Jessica\n",
      "{\n",
      "    \"count\": 874682,\n",
      "    \"name\": \"Jessica\",\n",
      "    \"country\": [\n",
      "        {\n",
      "            \"country_id\": \"US\",\n",
      "            \"probability\": 0.047\n",
      "        },\n",
      "        {\n",
      "            \"country_id\": \"EC\",\n",
      "            \"probability\": 0.046\n",
      "        },\n",
      "        {\n",
      "            \"country_id\": \"AU\",\n",
      "            \"probability\": 0.041\n",
      "        },\n",
      "        {\n",
      "            \"country_id\": \"SE\",\n",
      "            \"probability\": 0.038\n",
      "        },\n",
      "        {\n",
      "            \"country_id\": \"CA\",\n",
      "            \"probability\": 0.033\n",
      "        }\n",
      "    ]\n",
      "}\n"
     ]
    }
   ],
   "source": [
    "import requests\n",
    "import json\n",
    "\n",
    "name = input(\"Ingrese nombre: \")\n",
    "\n",
    "url = \"https://api.nationalize.io/?name=\"+name\n",
    "\n",
    "#invoca el servicio web\n",
    "#se recibe en un diccionario\n",
    "result = requests.get(url).json()\n",
    "\n",
    "#muestra el resultado\n",
    "print(json.dumps(result, indent = 4))"
   ]
  }
 ],
 "metadata": {
  "kernelspec": {
   "display_name": "Python 3 (ipykernel)",
   "language": "python",
   "name": "python3"
  },
  "language_info": {
   "codemirror_mode": {
    "name": "ipython",
    "version": 3
   },
   "file_extension": ".py",
   "mimetype": "text/x-python",
   "name": "python",
   "nbconvert_exporter": "python",
   "pygments_lexer": "ipython3",
   "version": "3.10.9"
  }
 },
 "nbformat": 4,
 "nbformat_minor": 5
}
